{
 "cells": [
  {
   "cell_type": "code",
   "execution_count": 82,
   "id": "41bd34f8",
   "metadata": {},
   "outputs": [],
   "source": [
    "import pandas as pd\n",
    "pd.set_option('display.max_rows', None)\n",
    "pd.set_option('display.max_columns', None)"
   ]
  },
  {
   "cell_type": "code",
   "execution_count": 83,
   "id": "f87e4d9d",
   "metadata": {},
   "outputs": [
    {
     "data": {
      "text/html": [
       "<div>\n",
       "<style scoped>\n",
       "    .dataframe tbody tr th:only-of-type {\n",
       "        vertical-align: middle;\n",
       "    }\n",
       "\n",
       "    .dataframe tbody tr th {\n",
       "        vertical-align: top;\n",
       "    }\n",
       "\n",
       "    .dataframe thead th {\n",
       "        text-align: right;\n",
       "    }\n",
       "</style>\n",
       "<table border=\"1\" class=\"dataframe\">\n",
       "  <thead>\n",
       "    <tr style=\"text-align: right;\">\n",
       "      <th></th>\n",
       "      <th>tanggal</th>\n",
       "      <th>p</th>\n",
       "      <th>u</th>\n",
       "      <th>diameter_1</th>\n",
       "      <th>diameter_2</th>\n",
       "      <th>diameter_3</th>\n",
       "      <th>diameter_4</th>\n",
       "    </tr>\n",
       "  </thead>\n",
       "  <tbody>\n",
       "    <tr>\n",
       "      <th>27</th>\n",
       "      <td>2025-08-08</td>\n",
       "      <td>F</td>\n",
       "      <td>3</td>\n",
       "      <td>10.3</td>\n",
       "      <td>9.9</td>\n",
       "      <td>9.4</td>\n",
       "      <td>8.6</td>\n",
       "    </tr>\n",
       "    <tr>\n",
       "      <th>56</th>\n",
       "      <td>2025-08-09</td>\n",
       "      <td>D</td>\n",
       "      <td>4</td>\n",
       "      <td>24.6</td>\n",
       "      <td>25.5</td>\n",
       "      <td>25.9</td>\n",
       "      <td>28.5</td>\n",
       "    </tr>\n",
       "    <tr>\n",
       "      <th>55</th>\n",
       "      <td>2025-08-09</td>\n",
       "      <td>E</td>\n",
       "      <td>3</td>\n",
       "      <td>24.0</td>\n",
       "      <td>24.1</td>\n",
       "      <td>24.4</td>\n",
       "      <td>24.3</td>\n",
       "    </tr>\n",
       "    <tr>\n",
       "      <th>46</th>\n",
       "      <td>2025-08-09</td>\n",
       "      <td>D</td>\n",
       "      <td>5</td>\n",
       "      <td>25.4</td>\n",
       "      <td>25.6</td>\n",
       "      <td>25.0</td>\n",
       "      <td>25.4</td>\n",
       "    </tr>\n",
       "    <tr>\n",
       "      <th>32</th>\n",
       "      <td>2025-08-09</td>\n",
       "      <td>A</td>\n",
       "      <td>2</td>\n",
       "      <td>26.7</td>\n",
       "      <td>25.3</td>\n",
       "      <td>24.1</td>\n",
       "      <td>26.4</td>\n",
       "    </tr>\n",
       "  </tbody>\n",
       "</table>\n",
       "</div>"
      ],
      "text/plain": [
       "      tanggal  p  u  diameter_1  diameter_2  diameter_3  diameter_4\n",
       "27 2025-08-08  F  3        10.3         9.9         9.4         8.6\n",
       "56 2025-08-09  D  4        24.6        25.5        25.9        28.5\n",
       "55 2025-08-09  E  3        24.0        24.1        24.4        24.3\n",
       "46 2025-08-09  D  5        25.4        25.6        25.0        25.4\n",
       "32 2025-08-09  A  2        26.7        25.3        24.1        26.4"
      ]
     },
     "execution_count": 83,
     "metadata": {},
     "output_type": "execute_result"
    }
   ],
   "source": [
    "df = pd.read_excel(\"Pengamatan.ods\", sheet_name=\"pengamatan\")\n",
    "df.sample(5)"
   ]
  },
  {
   "cell_type": "code",
   "execution_count": 85,
   "id": "9c877c38",
   "metadata": {},
   "outputs": [],
   "source": [
    "df.to_csv(\"pengamatan.csv\", index=None)"
   ]
  }
 ],
 "metadata": {
  "kernelspec": {
   "display_name": "venv",
   "language": "python",
   "name": "python3"
  },
  "language_info": {
   "codemirror_mode": {
    "name": "ipython",
    "version": 3
   },
   "file_extension": ".py",
   "mimetype": "text/x-python",
   "name": "python",
   "nbconvert_exporter": "python",
   "pygments_lexer": "ipython3",
   "version": "3.13.5"
  }
 },
 "nbformat": 4,
 "nbformat_minor": 5
}
